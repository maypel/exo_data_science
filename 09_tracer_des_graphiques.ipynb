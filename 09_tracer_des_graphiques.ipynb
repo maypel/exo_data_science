{
 "cells": [
  {
   "cell_type": "code",
   "execution_count": 1,
   "id": "a40f2e3a-bd64-4a9d-922b-9128e874fe6d",
   "metadata": {},
   "outputs": [],
   "source": [
    "import pandas as pd\n",
    "df = pd.read_csv(\"data.csv\")"
   ]
  },
  {
   "cell_type": "code",
   "execution_count": 2,
   "id": "363f1460-de4e-47ae-986a-0e995ce3ed37",
   "metadata": {},
   "outputs": [
    {
     "data": {
      "text/html": [
       "<div>\n",
       "<style scoped>\n",
       "    .dataframe tbody tr th:only-of-type {\n",
       "        vertical-align: middle;\n",
       "    }\n",
       "\n",
       "    .dataframe tbody tr th {\n",
       "        vertical-align: top;\n",
       "    }\n",
       "\n",
       "    .dataframe thead th {\n",
       "        text-align: right;\n",
       "    }\n",
       "</style>\n",
       "<table border=\"1\" class=\"dataframe\">\n",
       "  <thead>\n",
       "    <tr style=\"text-align: right;\">\n",
       "      <th></th>\n",
       "      <th>id</th>\n",
       "      <th>tax</th>\n",
       "    </tr>\n",
       "  </thead>\n",
       "  <tbody>\n",
       "    <tr>\n",
       "      <th>count</th>\n",
       "      <td>1000.000000</td>\n",
       "      <td>654.0</td>\n",
       "    </tr>\n",
       "    <tr>\n",
       "      <th>mean</th>\n",
       "      <td>500.500000</td>\n",
       "      <td>20.0</td>\n",
       "    </tr>\n",
       "    <tr>\n",
       "      <th>std</th>\n",
       "      <td>288.819436</td>\n",
       "      <td>0.0</td>\n",
       "    </tr>\n",
       "    <tr>\n",
       "      <th>min</th>\n",
       "      <td>1.000000</td>\n",
       "      <td>20.0</td>\n",
       "    </tr>\n",
       "    <tr>\n",
       "      <th>25%</th>\n",
       "      <td>250.750000</td>\n",
       "      <td>20.0</td>\n",
       "    </tr>\n",
       "    <tr>\n",
       "      <th>50%</th>\n",
       "      <td>500.500000</td>\n",
       "      <td>20.0</td>\n",
       "    </tr>\n",
       "    <tr>\n",
       "      <th>75%</th>\n",
       "      <td>750.250000</td>\n",
       "      <td>20.0</td>\n",
       "    </tr>\n",
       "    <tr>\n",
       "      <th>max</th>\n",
       "      <td>1000.000000</td>\n",
       "      <td>20.0</td>\n",
       "    </tr>\n",
       "  </tbody>\n",
       "</table>\n",
       "</div>"
      ],
      "text/plain": [
       "                id    tax\n",
       "count  1000.000000  654.0\n",
       "mean    500.500000   20.0\n",
       "std     288.819436    0.0\n",
       "min       1.000000   20.0\n",
       "25%     250.750000   20.0\n",
       "50%     500.500000   20.0\n",
       "75%     750.250000   20.0\n",
       "max    1000.000000   20.0"
      ]
     },
     "execution_count": 2,
     "metadata": {},
     "output_type": "execute_result"
    }
   ],
   "source": [
    "df.describe()"
   ]
  },
  {
   "cell_type": "code",
   "execution_count": 3,
   "id": "f8f6edc4-7660-4959-9355-96197059e969",
   "metadata": {},
   "outputs": [
    {
     "data": {
      "text/plain": [
       "count      1000\n",
       "unique      528\n",
       "top       $3.73\n",
       "freq          8\n",
       "Name: price_paid, dtype: object"
      ]
     },
     "execution_count": 3,
     "metadata": {},
     "output_type": "execute_result"
    }
   ],
   "source": [
    "df[\"price_paid\"].describe()"
   ]
  },
  {
   "cell_type": "code",
   "execution_count": 4,
   "id": "904069a6-b6f7-4063-91df-342645632297",
   "metadata": {},
   "outputs": [],
   "source": [
    "df.price_paid = df.price_paid.apply(lambda x: x.replace(\"$\", \"\"))\n",
    "df.price_paid = df.price_paid.astype(float)"
   ]
  },
  {
   "cell_type": "code",
   "execution_count": 5,
   "id": "76fd62b9-ebf0-4e8f-b4f2-5c9262c870ea",
   "metadata": {},
   "outputs": [
    {
     "data": {
      "text/plain": [
       "6.461930000000001"
      ]
     },
     "execution_count": 5,
     "metadata": {},
     "output_type": "execute_result"
    }
   ],
   "source": [
    "df[\"price_paid\"].mean()"
   ]
  },
  {
   "cell_type": "code",
   "execution_count": 6,
   "id": "17f8be17-fdbc-455a-9ba8-97d51a998b9c",
   "metadata": {},
   "outputs": [
    {
     "data": {
      "text/plain": [
       "6461.93"
      ]
     },
     "execution_count": 6,
     "metadata": {},
     "output_type": "execute_result"
    }
   ],
   "source": [
    "df[\"price_paid\"].sum()"
   ]
  },
  {
   "cell_type": "code",
   "execution_count": 7,
   "id": "fc1d97c7-1df4-487e-a778-d9403b2a96c7",
   "metadata": {},
   "outputs": [
    {
     "data": {
      "text/plain": [
       "3.0"
      ]
     },
     "execution_count": 7,
     "metadata": {},
     "output_type": "execute_result"
    }
   ],
   "source": [
    "df[\"price_paid\"].min()"
   ]
  },
  {
   "cell_type": "code",
   "execution_count": 8,
   "id": "a2ff8ef4-8736-44f7-b014-f458350b5c44",
   "metadata": {},
   "outputs": [
    {
     "data": {
      "text/plain": [
       "10.0"
      ]
     },
     "execution_count": 8,
     "metadata": {},
     "output_type": "execute_result"
    }
   ],
   "source": [
    "df[\"price_paid\"].max()"
   ]
  },
  {
   "cell_type": "code",
   "execution_count": 9,
   "id": "eae73cb7-dd78-4cbb-bd87-46222e72dcd8",
   "metadata": {},
   "outputs": [
    {
     "data": {
      "text/plain": [
       "array(['Canada', 'United States', 'Morocco', 'France', nan], dtype=object)"
      ]
     },
     "execution_count": 9,
     "metadata": {},
     "output_type": "execute_result"
    }
   ],
   "source": [
    "df[\"country\"].unique()"
   ]
  },
  {
   "cell_type": "code",
   "execution_count": 10,
   "id": "88af4c30-c83d-4290-a2ee-5cff5eeb0397",
   "metadata": {},
   "outputs": [
    {
     "data": {
      "text/plain": [
       "[5.36,\n",
       " 8.32,\n",
       " 3.73,\n",
       " 3.7,\n",
       " 9.24,\n",
       " 5.82,\n",
       " 6.29,\n",
       " 3.01,\n",
       " 9.05,\n",
       " 5.71,\n",
       " 3.15,\n",
       " 5.3,\n",
       " 5.97,\n",
       " 4.53,\n",
       " 4.1,\n",
       " 6.44,\n",
       " 3.16,\n",
       " 4.9,\n",
       " 5.55,\n",
       " 4.86,\n",
       " 6.72,\n",
       " 9.79,\n",
       " 8.23,\n",
       " 9.9,\n",
       " 5.88,\n",
       " 3.06,\n",
       " 9.52,\n",
       " 6.76,\n",
       " 7.81,\n",
       " 6.02,\n",
       " 5.0,\n",
       " 5.34,\n",
       " 4.67,\n",
       " 6.22,\n",
       " 3.37,\n",
       " 9.5,\n",
       " 4.54,\n",
       " 4.04,\n",
       " 3.45,\n",
       " 4.96,\n",
       " 5.29,\n",
       " 8.11,\n",
       " 7.8,\n",
       " 4.21,\n",
       " 9.81,\n",
       " 9.7,\n",
       " 9.71,\n",
       " 3.88,\n",
       " 3.4,\n",
       " 9.23,\n",
       " 6.57,\n",
       " 9.99,\n",
       " 6.94,\n",
       " 4.26,\n",
       " 9.13,\n",
       " 6.66,\n",
       " 9.35,\n",
       " 3.04,\n",
       " 6.17,\n",
       " 7.68,\n",
       " 4.23,\n",
       " 4.69,\n",
       " 7.56,\n",
       " 5.92,\n",
       " 4.65,\n",
       " 6.79,\n",
       " 8.71,\n",
       " 8.96,\n",
       " 4.39,\n",
       " 7.54,\n",
       " 5.83,\n",
       " 6.39,\n",
       " 9.6,\n",
       " 9.68,\n",
       " 9.86,\n",
       " 5.53,\n",
       " 3.51,\n",
       " 8.43,\n",
       " 6.89,\n",
       " 6.68,\n",
       " 4.66,\n",
       " 4.95,\n",
       " 6.77,\n",
       " 7.48,\n",
       " 7.23,\n",
       " 8.12,\n",
       " 5.8,\n",
       " 6.06,\n",
       " 4.71,\n",
       " 7.78,\n",
       " 9.67,\n",
       " 9.93,\n",
       " 4.56,\n",
       " 4.42,\n",
       " 4.12,\n",
       " 4.32,\n",
       " 8.83,\n",
       " 3.18,\n",
       " 8.86,\n",
       " 7.2,\n",
       " 3.72,\n",
       " 7.67,\n",
       " 8.68,\n",
       " 9.58,\n",
       " 7.91,\n",
       " 7.65,\n",
       " 8.77,\n",
       " 7.17,\n",
       " 9.47,\n",
       " 8.97,\n",
       " 6.07,\n",
       " 9.89,\n",
       " 8.85,\n",
       " 9.37,\n",
       " 7.03,\n",
       " 5.9,\n",
       " 4.0,\n",
       " 6.88,\n",
       " 8.75,\n",
       " 3.03,\n",
       " 6.64,\n",
       " 8.65,\n",
       " 5.98,\n",
       " 8.69,\n",
       " 4.46,\n",
       " 4.24,\n",
       " 8.79,\n",
       " 4.82,\n",
       " 8.16,\n",
       " 7.19,\n",
       " 5.87,\n",
       " 7.05,\n",
       " 3.93,\n",
       " 5.33,\n",
       " 6.09,\n",
       " 5.72,\n",
       " 3.12,\n",
       " 8.45,\n",
       " 6.86,\n",
       " 4.74,\n",
       " 7.98,\n",
       " 8.7,\n",
       " 4.57,\n",
       " 4.38,\n",
       " 6.8,\n",
       " 6.53,\n",
       " 7.27,\n",
       " 7.75,\n",
       " 3.95,\n",
       " 10.0,\n",
       " 6.96,\n",
       " 6.58,\n",
       " 5.56,\n",
       " 6.31,\n",
       " 5.49,\n",
       " 6.71,\n",
       " 6.93,\n",
       " 4.92,\n",
       " 9.02,\n",
       " 5.91,\n",
       " 9.27,\n",
       " 4.97,\n",
       " 7.02,\n",
       " 3.1,\n",
       " 4.25,\n",
       " 6.16,\n",
       " 4.47,\n",
       " 6.73,\n",
       " 9.32,\n",
       " 7.41,\n",
       " 9.51,\n",
       " 8.88,\n",
       " 5.47,\n",
       " 4.2,\n",
       " 9.38,\n",
       " 7.44,\n",
       " 9.1,\n",
       " 6.24,\n",
       " 4.43,\n",
       " 3.21,\n",
       " 8.82,\n",
       " 5.68,\n",
       " 6.14,\n",
       " 7.32,\n",
       " 8.62,\n",
       " 5.75,\n",
       " 3.96,\n",
       " 8.21,\n",
       " 3.52,\n",
       " 8.22,\n",
       " 9.45,\n",
       " 7.82,\n",
       " 3.05,\n",
       " 4.61,\n",
       " 7.83,\n",
       " 7.88,\n",
       " 4.48,\n",
       " 4.4,\n",
       " 8.37,\n",
       " 6.21,\n",
       " 9.16,\n",
       " 3.34,\n",
       " 8.24,\n",
       " 3.23,\n",
       " 9.3,\n",
       " 7.62,\n",
       " 8.74,\n",
       " 8.63,\n",
       " 3.78,\n",
       " 8.15,\n",
       " 3.87,\n",
       " 9.33,\n",
       " 8.02,\n",
       " 8.61,\n",
       " 3.17,\n",
       " 9.83,\n",
       " 4.44,\n",
       " 3.29,\n",
       " 6.11,\n",
       " 4.93,\n",
       " 6.05,\n",
       " 5.63,\n",
       " 9.98,\n",
       " 5.84,\n",
       " 8.19,\n",
       " 3.81,\n",
       " 5.86,\n",
       " 8.84,\n",
       " 3.33,\n",
       " 8.89,\n",
       " 8.34,\n",
       " 6.47,\n",
       " 8.66,\n",
       " 9.57,\n",
       " 3.48,\n",
       " 7.71,\n",
       " 8.27,\n",
       " 3.63,\n",
       " 8.28,\n",
       " 7.04,\n",
       " 3.84,\n",
       " 5.21,\n",
       " 8.33,\n",
       " 9.12,\n",
       " 3.09,\n",
       " 9.19,\n",
       " 8.25,\n",
       " 9.92,\n",
       " 3.79,\n",
       " 8.31,\n",
       " 9.43,\n",
       " 7.72,\n",
       " 3.44,\n",
       " 4.18,\n",
       " 7.12,\n",
       " 7.13,\n",
       " 4.84,\n",
       " 7.3,\n",
       " 7.89,\n",
       " 9.04,\n",
       " 4.03,\n",
       " 4.98,\n",
       " 6.7,\n",
       " 4.34,\n",
       " 6.32,\n",
       " 5.06,\n",
       " 9.31,\n",
       " 4.3,\n",
       " 3.56,\n",
       " 8.41,\n",
       " 6.49,\n",
       " 7.18,\n",
       " 6.75,\n",
       " 4.72,\n",
       " 3.68,\n",
       " 3.6,\n",
       " 9.85,\n",
       " 9.88,\n",
       " 6.46,\n",
       " 7.93,\n",
       " 3.53,\n",
       " 7.79,\n",
       " 4.16,\n",
       " 5.54,\n",
       " 5.35,\n",
       " 4.91,\n",
       " 6.5,\n",
       " 6.84,\n",
       " 8.17,\n",
       " 3.27,\n",
       " 5.27,\n",
       " 5.62,\n",
       " 3.66,\n",
       " 9.4,\n",
       " 5.66,\n",
       " 9.96,\n",
       " 4.76,\n",
       " 6.34,\n",
       " 8.64,\n",
       " 5.65,\n",
       " 5.08,\n",
       " 5.5,\n",
       " 6.6,\n",
       " 5.45,\n",
       " 8.95,\n",
       " 3.08,\n",
       " 9.97,\n",
       " 7.38,\n",
       " 6.98,\n",
       " 6.37,\n",
       " 4.31,\n",
       " 5.16,\n",
       " 7.9,\n",
       " 9.2,\n",
       " 8.01,\n",
       " 7.31,\n",
       " 7.66,\n",
       " 8.46,\n",
       " 3.14,\n",
       " 6.35,\n",
       " 3.2,\n",
       " 8.08,\n",
       " 7.28,\n",
       " 5.57,\n",
       " 3.49,\n",
       " 9.18,\n",
       " 7.22,\n",
       " 9.06,\n",
       " 6.55,\n",
       " 5.79,\n",
       " 3.25,\n",
       " 7.99,\n",
       " 8.18,\n",
       " 5.15,\n",
       " 6.23,\n",
       " 9.36,\n",
       " 5.05,\n",
       " 3.57,\n",
       " 9.21,\n",
       " 7.52,\n",
       " 3.28,\n",
       " 8.54,\n",
       " 3.8,\n",
       " 4.51,\n",
       " 9.75,\n",
       " 7.14,\n",
       " 8.4,\n",
       " 7.08,\n",
       " 8.49,\n",
       " 3.02,\n",
       " 6.27,\n",
       " 7.36,\n",
       " 4.01,\n",
       " 6.91,\n",
       " 8.38,\n",
       " 4.78,\n",
       " 8.94,\n",
       " 8.35,\n",
       " 7.96,\n",
       " 7.85,\n",
       " 8.1,\n",
       " 6.52,\n",
       " 6.2,\n",
       " 4.83,\n",
       " 9.08,\n",
       " 5.32,\n",
       " 7.16,\n",
       " 3.38,\n",
       " 5.61,\n",
       " 8.8,\n",
       " 4.22,\n",
       " 9.82,\n",
       " 9.29,\n",
       " 5.48,\n",
       " 5.24,\n",
       " 7.5,\n",
       " 7.95,\n",
       " 3.98,\n",
       " 3.74,\n",
       " 4.87,\n",
       " 3.86,\n",
       " 4.17,\n",
       " 3.36,\n",
       " 5.6,\n",
       " 6.51,\n",
       " 4.55,\n",
       " 4.36,\n",
       " 7.45,\n",
       " 8.55,\n",
       " 3.77,\n",
       " 3.46,\n",
       " 8.92,\n",
       " 6.4,\n",
       " 3.92,\n",
       " 5.1,\n",
       " 9.42,\n",
       " 9.09,\n",
       " 5.81,\n",
       " 6.43,\n",
       " 6.48,\n",
       " 6.12,\n",
       " 6.18,\n",
       " 3.31,\n",
       " 8.6,\n",
       " 6.85,\n",
       " 4.02,\n",
       " 3.35,\n",
       " 8.42,\n",
       " 5.89,\n",
       " 9.72,\n",
       " 3.61,\n",
       " 7.39,\n",
       " 9.84,\n",
       " 3.22,\n",
       " 4.35,\n",
       " 4.62,\n",
       " 4.49,\n",
       " 4.5,\n",
       " 8.72,\n",
       " 6.63,\n",
       " 4.7,\n",
       " 6.59,\n",
       " 3.75,\n",
       " 5.2,\n",
       " 3.59,\n",
       " 7.09,\n",
       " 5.78,\n",
       " 5.26,\n",
       " 6.62,\n",
       " 4.88,\n",
       " 5.4,\n",
       " 3.94,\n",
       " 6.99,\n",
       " 3.91,\n",
       " 3.54,\n",
       " 9.53,\n",
       " 9.65,\n",
       " 3.89,\n",
       " 9.77,\n",
       " 5.25,\n",
       " 3.58,\n",
       " 9.62,\n",
       " 3.69,\n",
       " 4.85,\n",
       " 3.55,\n",
       " 5.09,\n",
       " 4.13,\n",
       " 3.0,\n",
       " 3.41,\n",
       " 5.69,\n",
       " 4.79,\n",
       " 9.95,\n",
       " 5.76,\n",
       " 6.87,\n",
       " 8.44,\n",
       " 6.19,\n",
       " 7.76,\n",
       " 9.63,\n",
       " 7.43,\n",
       " 4.68,\n",
       " 5.73,\n",
       " 5.42,\n",
       " 7.25,\n",
       " 9.11,\n",
       " 5.44,\n",
       " 5.7,\n",
       " 9.8,\n",
       " 5.03,\n",
       " 6.81,\n",
       " 5.18,\n",
       " 7.34,\n",
       " 4.05,\n",
       " 4.27,\n",
       " 5.37,\n",
       " 8.9,\n",
       " 7.51,\n",
       " 8.48,\n",
       " 3.9,\n",
       " 9.26,\n",
       " 3.11,\n",
       " 5.19,\n",
       " 5.51,\n",
       " 8.99,\n",
       " 4.07,\n",
       " 9.01,\n",
       " 8.53,\n",
       " 6.67,\n",
       " 6.56,\n",
       " 6.92,\n",
       " 9.15,\n",
       " 5.67,\n",
       " 5.96,\n",
       " 8.09,\n",
       " 5.11,\n",
       " 7.4,\n",
       " 7.33,\n",
       " 5.43,\n",
       " 6.3,\n",
       " 5.28,\n",
       " 5.02,\n",
       " 5.93,\n",
       " 9.78,\n",
       " 9.28,\n",
       " 3.5,\n",
       " 9.22,\n",
       " 6.15,\n",
       " 9.69,\n",
       " 7.97,\n",
       " 5.94,\n",
       " 9.76,\n",
       " 3.83,\n",
       " 4.73,\n",
       " 6.95,\n",
       " 3.32,\n",
       " 9.03,\n",
       " 4.64,\n",
       " 7.59,\n",
       " 3.3,\n",
       " 7.37,\n",
       " 6.13,\n",
       " 7.7,\n",
       " 3.07,\n",
       " 6.69,\n",
       " 3.71,\n",
       " 9.55,\n",
       " 4.33,\n",
       " 6.1,\n",
       " 4.59]"
      ]
     },
     "execution_count": 10,
     "metadata": {},
     "output_type": "execute_result"
    }
   ],
   "source": [
    "df[\"price_paid\"].unique().tolist()"
   ]
  },
  {
   "cell_type": "code",
   "execution_count": 11,
   "id": "a3b7f4ff-b096-4eff-a277-03145f1067b0",
   "metadata": {},
   "outputs": [
    {
     "data": {
      "text/plain": [
       "France           408\n",
       "United States    333\n",
       "Canada           161\n",
       "Morocco           54\n",
       "Name: country, dtype: int64"
      ]
     },
     "execution_count": 11,
     "metadata": {},
     "output_type": "execute_result"
    }
   ],
   "source": [
    "df[\"country\"].value_counts()"
   ]
  },
  {
   "cell_type": "code",
   "execution_count": 12,
   "id": "064aee88-cb55-4023-b6a0-be08d256f53f",
   "metadata": {},
   "outputs": [
    {
     "data": {
      "text/plain": [
       "Female    493\n",
       "Male      438\n",
       "Name: gender, dtype: int64"
      ]
     },
     "execution_count": 12,
     "metadata": {},
     "output_type": "execute_result"
    }
   ],
   "source": [
    "df[\"gender\"].value_counts()"
   ]
  },
  {
   "cell_type": "code",
   "execution_count": 13,
   "id": "b4769694-4c1b-4bf7-95a8-2ab4f6266672",
   "metadata": {},
   "outputs": [
    {
     "data": {
      "text/plain": [
       "Female    0.529538\n",
       "Male      0.470462\n",
       "Name: gender, dtype: float64"
      ]
     },
     "execution_count": 13,
     "metadata": {},
     "output_type": "execute_result"
    }
   ],
   "source": [
    "df[\"gender\"].value_counts(normalize=True)"
   ]
  },
  {
   "cell_type": "code",
   "execution_count": 14,
   "id": "a55e892b-1478-4db5-9932-dcfb477e02f9",
   "metadata": {},
   "outputs": [
    {
     "data": {
      "text/plain": [
       "<pandas.core.groupby.generic.DataFrameGroupBy object at 0x0000022BBFF611F0>"
      ]
     },
     "execution_count": 14,
     "metadata": {},
     "output_type": "execute_result"
    }
   ],
   "source": [
    "df.groupby(\"country\")"
   ]
  },
  {
   "cell_type": "code",
   "execution_count": 15,
   "id": "7c447919-6f89-4290-b629-544539390fad",
   "metadata": {},
   "outputs": [
    {
     "data": {
      "text/html": [
       "<div>\n",
       "<style scoped>\n",
       "    .dataframe tbody tr th:only-of-type {\n",
       "        vertical-align: middle;\n",
       "    }\n",
       "\n",
       "    .dataframe tbody tr th {\n",
       "        vertical-align: top;\n",
       "    }\n",
       "\n",
       "    .dataframe thead th {\n",
       "        text-align: right;\n",
       "    }\n",
       "</style>\n",
       "<table border=\"1\" class=\"dataframe\">\n",
       "  <thead>\n",
       "    <tr style=\"text-align: right;\">\n",
       "      <th></th>\n",
       "      <th>id</th>\n",
       "      <th>price_paid</th>\n",
       "      <th>tax</th>\n",
       "    </tr>\n",
       "    <tr>\n",
       "      <th>country</th>\n",
       "      <th></th>\n",
       "      <th></th>\n",
       "      <th></th>\n",
       "    </tr>\n",
       "  </thead>\n",
       "  <tbody>\n",
       "    <tr>\n",
       "      <th>Canada</th>\n",
       "      <td>437.049689</td>\n",
       "      <td>6.319565</td>\n",
       "      <td>20.0</td>\n",
       "    </tr>\n",
       "    <tr>\n",
       "      <th>France</th>\n",
       "      <td>525.588235</td>\n",
       "      <td>6.420613</td>\n",
       "      <td>20.0</td>\n",
       "    </tr>\n",
       "    <tr>\n",
       "      <th>Morocco</th>\n",
       "      <td>492.425926</td>\n",
       "      <td>6.721667</td>\n",
       "      <td>20.0</td>\n",
       "    </tr>\n",
       "    <tr>\n",
       "      <th>United States</th>\n",
       "      <td>504.954955</td>\n",
       "      <td>6.557568</td>\n",
       "      <td>20.0</td>\n",
       "    </tr>\n",
       "  </tbody>\n",
       "</table>\n",
       "</div>"
      ],
      "text/plain": [
       "                       id  price_paid   tax\n",
       "country                                    \n",
       "Canada         437.049689    6.319565  20.0\n",
       "France         525.588235    6.420613  20.0\n",
       "Morocco        492.425926    6.721667  20.0\n",
       "United States  504.954955    6.557568  20.0"
      ]
     },
     "execution_count": 15,
     "metadata": {},
     "output_type": "execute_result"
    }
   ],
   "source": [
    "df.groupby(\"country\").mean()"
   ]
  },
  {
   "cell_type": "code",
   "execution_count": 16,
   "id": "1f46be97-6eec-4230-bc50-10e9189619ce",
   "metadata": {},
   "outputs": [
    {
     "data": {
      "text/html": [
       "<div>\n",
       "<style scoped>\n",
       "    .dataframe tbody tr th:only-of-type {\n",
       "        vertical-align: middle;\n",
       "    }\n",
       "\n",
       "    .dataframe tbody tr th {\n",
       "        vertical-align: top;\n",
       "    }\n",
       "\n",
       "    .dataframe thead th {\n",
       "        text-align: right;\n",
       "    }\n",
       "</style>\n",
       "<table border=\"1\" class=\"dataframe\">\n",
       "  <thead>\n",
       "    <tr style=\"text-align: right;\">\n",
       "      <th></th>\n",
       "      <th>id</th>\n",
       "      <th>price_paid</th>\n",
       "      <th>tax</th>\n",
       "    </tr>\n",
       "    <tr>\n",
       "      <th>gender</th>\n",
       "      <th></th>\n",
       "      <th></th>\n",
       "      <th></th>\n",
       "    </tr>\n",
       "  </thead>\n",
       "  <tbody>\n",
       "    <tr>\n",
       "      <th>Female</th>\n",
       "      <td>493.154158</td>\n",
       "      <td>6.420406</td>\n",
       "      <td>20.0</td>\n",
       "    </tr>\n",
       "    <tr>\n",
       "      <th>Male</th>\n",
       "      <td>503.614155</td>\n",
       "      <td>6.469429</td>\n",
       "      <td>20.0</td>\n",
       "    </tr>\n",
       "  </tbody>\n",
       "</table>\n",
       "</div>"
      ],
      "text/plain": [
       "                id  price_paid   tax\n",
       "gender                              \n",
       "Female  493.154158    6.420406  20.0\n",
       "Male    503.614155    6.469429  20.0"
      ]
     },
     "execution_count": 16,
     "metadata": {},
     "output_type": "execute_result"
    }
   ],
   "source": [
    "df.groupby(\"gender\").mean()"
   ]
  },
  {
   "cell_type": "code",
   "execution_count": 17,
   "id": "85279f4d-d3cd-4fba-b320-fd10154f5403",
   "metadata": {},
   "outputs": [
    {
     "data": {
      "text/plain": [
       "gender\n",
       "Female    6.420406\n",
       "Male      6.469429\n",
       "Name: price_paid, dtype: float64"
      ]
     },
     "execution_count": 17,
     "metadata": {},
     "output_type": "execute_result"
    }
   ],
   "source": [
    "df.groupby(\"gender\")[\"price_paid\"].mean()"
   ]
  },
  {
   "cell_type": "code",
   "execution_count": 18,
   "id": "a38e8dbe-0a46-4c2a-bb12-af317ad6ea40",
   "metadata": {},
   "outputs": [
    {
     "data": {
      "text/html": [
       "<div>\n",
       "<style scoped>\n",
       "    .dataframe tbody tr th:only-of-type {\n",
       "        vertical-align: middle;\n",
       "    }\n",
       "\n",
       "    .dataframe tbody tr th {\n",
       "        vertical-align: top;\n",
       "    }\n",
       "\n",
       "    .dataframe thead th {\n",
       "        text-align: right;\n",
       "    }\n",
       "</style>\n",
       "<table border=\"1\" class=\"dataframe\">\n",
       "  <thead>\n",
       "    <tr style=\"text-align: right;\">\n",
       "      <th></th>\n",
       "      <th></th>\n",
       "      <th>id</th>\n",
       "      <th>price_paid</th>\n",
       "      <th>tax</th>\n",
       "    </tr>\n",
       "    <tr>\n",
       "      <th>gender</th>\n",
       "      <th>country</th>\n",
       "      <th></th>\n",
       "      <th></th>\n",
       "      <th></th>\n",
       "    </tr>\n",
       "  </thead>\n",
       "  <tbody>\n",
       "    <tr>\n",
       "      <th rowspan=\"4\" valign=\"top\">Female</th>\n",
       "      <th>Canada</th>\n",
       "      <td>461.472973</td>\n",
       "      <td>6.419324</td>\n",
       "      <td>20.0</td>\n",
       "    </tr>\n",
       "    <tr>\n",
       "      <th>France</th>\n",
       "      <td>512.648241</td>\n",
       "      <td>6.350352</td>\n",
       "      <td>20.0</td>\n",
       "    </tr>\n",
       "    <tr>\n",
       "      <th>Morocco</th>\n",
       "      <td>479.925926</td>\n",
       "      <td>7.024815</td>\n",
       "      <td>20.0</td>\n",
       "    </tr>\n",
       "    <tr>\n",
       "      <th>United States</th>\n",
       "      <td>487.282353</td>\n",
       "      <td>6.437118</td>\n",
       "      <td>20.0</td>\n",
       "    </tr>\n",
       "    <tr>\n",
       "      <th rowspan=\"4\" valign=\"top\">Male</th>\n",
       "      <th>Canada</th>\n",
       "      <td>406.000000</td>\n",
       "      <td>6.117467</td>\n",
       "      <td>20.0</td>\n",
       "    </tr>\n",
       "    <tr>\n",
       "      <th>France</th>\n",
       "      <td>534.928177</td>\n",
       "      <td>6.498950</td>\n",
       "      <td>20.0</td>\n",
       "    </tr>\n",
       "    <tr>\n",
       "      <th>Morocco</th>\n",
       "      <td>483.652174</td>\n",
       "      <td>6.146957</td>\n",
       "      <td>20.0</td>\n",
       "    </tr>\n",
       "    <tr>\n",
       "      <th>United States</th>\n",
       "      <td>525.284722</td>\n",
       "      <td>6.672500</td>\n",
       "      <td>20.0</td>\n",
       "    </tr>\n",
       "  </tbody>\n",
       "</table>\n",
       "</div>"
      ],
      "text/plain": [
       "                              id  price_paid   tax\n",
       "gender country                                    \n",
       "Female Canada         461.472973    6.419324  20.0\n",
       "       France         512.648241    6.350352  20.0\n",
       "       Morocco        479.925926    7.024815  20.0\n",
       "       United States  487.282353    6.437118  20.0\n",
       "Male   Canada         406.000000    6.117467  20.0\n",
       "       France         534.928177    6.498950  20.0\n",
       "       Morocco        483.652174    6.146957  20.0\n",
       "       United States  525.284722    6.672500  20.0"
      ]
     },
     "execution_count": 18,
     "metadata": {},
     "output_type": "execute_result"
    }
   ],
   "source": [
    "df.groupby([\"gender\", \"country\"]).mean()"
   ]
  },
  {
   "cell_type": "code",
   "execution_count": 20,
   "id": "c92a0a3b-a03f-4c06-8f79-cb9c20dfcc4c",
   "metadata": {},
   "outputs": [
    {
     "data": {
      "text/plain": [
       "<AxesSubplot:xlabel='date'>"
      ]
     },
     "execution_count": 20,
     "metadata": {},
     "output_type": "execute_result"
    },
    {
     "data": {
      "image/png": "[encoded data removed]",
      "text/plain": [
       "<Figure size 720x360 with 1 Axes>"
      ]
     },
     "metadata": {
      "needs_background": "light"
     },
     "output_type": "display_data"
    }
   ],
   "source": [
    "df.groupby(\"date\")[\"price_paid\"].sum().plot(figsize=[10,5])"
   ]
  },
  {
   "cell_type": "code",
   "execution_count": 22,
   "id": "e57c8e1c-5247-4962-8e62-160e94892825",
   "metadata": {},
   "outputs": [
    {
     "data": {
      "text/plain": [
       "<AxesSubplot:ylabel='price_paid'>"
      ]
     },
     "execution_count": 22,
     "metadata": {},
     "output_type": "execute_result"
    },
    {
     "data": {
      "image/png": "[encoded data removed]",
      "text/plain": [
       "<Figure size 504x504 with 1 Axes>"
      ]
     },
     "metadata": {},
     "output_type": "display_data"
    }
   ],
   "source": [
    "df.groupby(\"gender\")[\"price_paid\"].sum().plot.pie(legend=True, figsize=(7,7))"
   ]
  },
  {
   "cell_type": "code",
   "execution_count": 24,
   "id": "2e6652f7-d030-4833-a394-5f78e3bc1d1b",
   "metadata": {},
   "outputs": [
    {
     "data": {
      "text/plain": [
       "<AxesSubplot:xlabel='country'>"
      ]
     },
     "execution_count": 24,
     "metadata": {},
     "output_type": "execute_result"
    },
    {
     "data": {
      "image/png": "[encoded data removed]",
      "text/plain": [
       "<Figure size 432x288 with 1 Axes>"
      ]
     },
     "metadata": {
      "needs_background": "light"
     },
     "output_type": "display_data"
    }
   ],
   "source": [
    "df.groupby(\"country\")[\"price_paid\"].sum().plot.bar(rot=45, legend=True)"
   ]
  },
  {
   "cell_type": "code",
   "execution_count": null,
   "id": "dd4c6ac1-25db-48af-a02e-0d8f47aeec73",
   "metadata": {},
   "outputs": [],
   "source": []
  }
 ],
 "metadata": {
  "kernelspec": {
   "display_name": "Python 3 (ipykernel)",
   "language": "python",
   "name": "python3"
  },
  "language_info": {
   "codemirror_mode": {
    "name": "ipython",
    "version": 3
   },
   "file_extension": ".py",
   "mimetype": "text/x-python",
   "name": "python",
   "nbconvert_exporter": "python",
   "pygments_lexer": "ipython3",
   "version": "3.8.6"
  }
 },
 "nbformat": 4,
 "nbformat_minor": 5
}
